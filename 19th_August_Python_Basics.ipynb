{
 "cells": [
  {
   "cell_type": "code",
   "execution_count": 1,
   "id": "4273b897-d57c-4bcd-8897-e5f23e6c8bc3",
   "metadata": {},
   "outputs": [
    {
     "data": {
      "text/plain": [
       "'Declare two variables, `x` and `y`, and assign them integer values. Swap the\\n   values of these variables without using any temporary variable.'"
      ]
     },
     "execution_count": 1,
     "metadata": {},
     "output_type": "execute_result"
    }
   ],
   "source": [
    "'''Declare two variables, `x` and `y`, and assign them integer values. Swap the\n",
    "   values of these variables without using any temporary variable.'''"
   ]
  },
  {
   "cell_type": "code",
   "execution_count": 5,
   "id": "4d313eeb-dfa0-4d16-88af-78a3b7d8cb6a",
   "metadata": {},
   "outputs": [],
   "source": [
    "x , y = 5 , 7"
   ]
  },
  {
   "cell_type": "code",
   "execution_count": 6,
   "id": "6b127f91-8fdb-4743-a5b7-7c14f5c0b6c9",
   "metadata": {},
   "outputs": [],
   "source": [
    "x = x + y\n",
    " \n",
    "y = x - y\n",
    "\n",
    "x = x - y"
   ]
  },
  {
   "cell_type": "code",
   "execution_count": 7,
   "id": "95801d88-4c8f-4813-b849-3b8c2df214f5",
   "metadata": {},
   "outputs": [
    {
     "data": {
      "text/plain": [
       "(7, 5)"
      ]
     },
     "execution_count": 7,
     "metadata": {},
     "output_type": "execute_result"
    }
   ],
   "source": [
    "x ,y"
   ]
  },
  {
   "cell_type": "code",
   "execution_count": null,
   "id": "9ed9a6d5-744a-4ff3-8c23-4a4a33a6326e",
   "metadata": {},
   "outputs": [],
   "source": []
  },
  {
   "cell_type": "code",
   "execution_count": 8,
   "id": "5c0df9dd-c244-49ec-be00-e47976cf7842",
   "metadata": {},
   "outputs": [
    {
     "data": {
      "text/plain": [
       "'Create a program that calculates the area of a rectangle. Take the length and\\nwidth as inputs from the user and store them in variables. Calculate and\\ndisplay the area.'"
      ]
     },
     "execution_count": 8,
     "metadata": {},
     "output_type": "execute_result"
    }
   ],
   "source": [
    "'''Create a program that calculates the area of a rectangle. Take the length and\n",
    "width as inputs from the user and store them in variables. Calculate and\n",
    "display the area.'''"
   ]
  },
  {
   "cell_type": "code",
   "execution_count": 17,
   "id": "0e84088b-a1de-4b7c-835c-04d610e64ec9",
   "metadata": {},
   "outputs": [
    {
     "name": "stdin",
     "output_type": "stream",
     "text": [
      " 47\n",
      " 2\n"
     ]
    }
   ],
   "source": [
    "width=float(input())\n",
    "hight=float(input())\n"
   ]
  },
  {
   "cell_type": "code",
   "execution_count": 18,
   "id": "89e319cc-254d-4503-b95e-408c63f49250",
   "metadata": {},
   "outputs": [
    {
     "name": "stdout",
     "output_type": "stream",
     "text": [
      "Area of rectangle= 94.0\n"
     ]
    }
   ],
   "source": [
    "area=width*hight                                             \n",
    "print(\"Area of rectangle=\",str(area))  "
   ]
  },
  {
   "cell_type": "code",
   "execution_count": null,
   "id": "1cdf66cc-d7ae-4e14-9b41-b2c79a923a85",
   "metadata": {},
   "outputs": [],
   "source": []
  },
  {
   "cell_type": "code",
   "execution_count": 19,
   "id": "bcf85f8b-37bd-49fd-8c7b-b41c1437652e",
   "metadata": {},
   "outputs": [
    {
     "data": {
      "text/plain": [
       "'Write a Python program that converts temperatures from Celsius to\\nFahrenheit. Take the temperature in Celsius as input, store it in a variable,\\nconvert it to Fahrenheit, and display the result.'"
      ]
     },
     "execution_count": 19,
     "metadata": {},
     "output_type": "execute_result"
    }
   ],
   "source": [
    "'''Write a Python program that converts temperatures from Celsius to\n",
    "Fahrenheit. Take the temperature in Celsius as input, store it in a variable,\n",
    "convert it to Fahrenheit, and display the result.'''"
   ]
  },
  {
   "cell_type": "code",
   "execution_count": 25,
   "id": "c1ea9b9a-2171-42e0-af91-968b8350d4f4",
   "metadata": {},
   "outputs": [
    {
     "name": "stdin",
     "output_type": "stream",
     "text": [
      " 44\n"
     ]
    }
   ],
   "source": [
    "celsius = float(input())"
   ]
  },
  {
   "cell_type": "code",
   "execution_count": 26,
   "id": "83ee2f0a-84f0-4239-a458-66f49830cdbe",
   "metadata": {},
   "outputs": [],
   "source": [
    "fahrenheit = (celsius * 1.8) + 32"
   ]
  },
  {
   "cell_type": "code",
   "execution_count": 27,
   "id": "a8d1e55c-c8ed-4d0f-83c1-c90cfe8e8cd2",
   "metadata": {},
   "outputs": [
    {
     "name": "stdout",
     "output_type": "stream",
     "text": [
      "44.0 degree Celsius is equal to 111.2 degree Fahrenheit\n"
     ]
    }
   ],
   "source": [
    "print('%0.1f degree Celsius is equal to %0.1f degree Fahrenheit' %(celsius,fahrenheit))"
   ]
  },
  {
   "cell_type": "code",
   "execution_count": null,
   "id": "e2eda2fc-ea1a-4687-9d36-7a5495425d82",
   "metadata": {},
   "outputs": [],
   "source": []
  },
  {
   "cell_type": "code",
   "execution_count": 28,
   "id": "cb3094e9-a09e-4550-9f5c-61ae3917b743",
   "metadata": {},
   "outputs": [],
   "source": [
    "#TOPIC 2\n"
   ]
  },
  {
   "cell_type": "code",
   "execution_count": 29,
   "id": "06d2a22a-58ea-438e-b270-fc7838482c65",
   "metadata": {},
   "outputs": [
    {
     "data": {
      "text/plain": [
       "'Write a Python program that takes a string as input and prints the length of\\nthe string.'"
      ]
     },
     "execution_count": 29,
     "metadata": {},
     "output_type": "execute_result"
    }
   ],
   "source": [
    "'''Write a Python program that takes a string as input and prints the length of\n",
    "the string.'''"
   ]
  },
  {
   "cell_type": "code",
   "execution_count": 30,
   "id": "1cb4a76f-c798-47a3-b9e8-41410f6ff0d5",
   "metadata": {},
   "outputs": [
    {
     "name": "stdin",
     "output_type": "stream",
     "text": [
      " Hello\n"
     ]
    }
   ],
   "source": [
    "s= str(input())"
   ]
  },
  {
   "cell_type": "code",
   "execution_count": 33,
   "id": "881b4176-247f-4a51-aaec-e2bc2b46c137",
   "metadata": {},
   "outputs": [
    {
     "data": {
      "text/plain": [
       "5"
      ]
     },
     "execution_count": 33,
     "metadata": {},
     "output_type": "execute_result"
    }
   ],
   "source": [
    "len(s)"
   ]
  },
  {
   "cell_type": "code",
   "execution_count": null,
   "id": "ef60e833-434b-4289-9094-f726951d873a",
   "metadata": {},
   "outputs": [],
   "source": []
  },
  {
   "cell_type": "code",
   "execution_count": 34,
   "id": "2f237421-bfa2-4c64-8400-c43a27a4e7e1",
   "metadata": {},
   "outputs": [
    {
     "data": {
      "text/plain": [
       "' 2. Create a program that takes a sentence from the user and counts the number\\nof vowels (a, e, i, o, u) in the string.'"
      ]
     },
     "execution_count": 34,
     "metadata": {},
     "output_type": "execute_result"
    }
   ],
   "source": [
    "''' 2. Create a program that takes a sentence from the user and counts the number\n",
    "of vowels (a, e, i, o, u) in the string.'''"
   ]
  },
  {
   "cell_type": "code",
   "execution_count": 1,
   "id": "9b512dd2-398f-4932-a4f9-d1d466a23972",
   "metadata": {},
   "outputs": [
    {
     "name": "stdin",
     "output_type": "stream",
     "text": [
      " varanasi\n"
     ]
    }
   ],
   "source": [
    "string = str(input())\n"
   ]
  },
  {
   "cell_type": "code",
   "execution_count": 4,
   "id": "d4556318-a946-4145-b998-64a2ba1ffcb2",
   "metadata": {},
   "outputs": [],
   "source": [
    "vowels = \"aeiouAEIOU\"\n",
    "\n",
    "count = sum(string.count(vowel) for vowel in vowels)"
   ]
  },
  {
   "cell_type": "code",
   "execution_count": 5,
   "id": "eca27b70-9fa8-4039-bf41-33b5fb6c44d9",
   "metadata": {},
   "outputs": [
    {
     "name": "stdout",
     "output_type": "stream",
     "text": [
      "4\n"
     ]
    }
   ],
   "source": [
    "print(count)\n"
   ]
  },
  {
   "cell_type": "code",
   "execution_count": 6,
   "id": "a8ed4cb0-ee39-4c02-b498-5dc590e8db6e",
   "metadata": {},
   "outputs": [
    {
     "data": {
      "text/plain": [
       "'Given a string, reverse the order of characters using string slicing and print\\nthe reversed string.'"
      ]
     },
     "execution_count": 6,
     "metadata": {},
     "output_type": "execute_result"
    }
   ],
   "source": [
    "'''Given a string, reverse the order of characters using string slicing and print\n",
    "the reversed string.'''"
   ]
  },
  {
   "cell_type": "code",
   "execution_count": 9,
   "id": "990e2e60-acba-4d9c-99d7-3f5fc3443fa2",
   "metadata": {},
   "outputs": [],
   "source": [
    "s = 'i am happy'"
   ]
  },
  {
   "cell_type": "code",
   "execution_count": 10,
   "id": "b72ce165-ad54-46af-9e3c-2bbeeeeecf9d",
   "metadata": {},
   "outputs": [
    {
     "data": {
      "text/plain": [
       "'yppah ma i'"
      ]
     },
     "execution_count": 10,
     "metadata": {},
     "output_type": "execute_result"
    }
   ],
   "source": [
    "s[::-1]"
   ]
  },
  {
   "cell_type": "code",
   "execution_count": null,
   "id": "5bab2cd1-ea2f-4e23-b1e7-cd25f2ca270b",
   "metadata": {},
   "outputs": [],
   "source": []
  },
  {
   "cell_type": "code",
   "execution_count": 11,
   "id": "908a460b-c0a3-477a-a208-0d2a176062cd",
   "metadata": {},
   "outputs": [
    {
     "data": {
      "text/plain": [
       "'Write a program that takes a string as input and checks if it is a palindrome\\n(reads the same forwards and backwards)'"
      ]
     },
     "execution_count": 11,
     "metadata": {},
     "output_type": "execute_result"
    }
   ],
   "source": [
    "'''Write a program that takes a string as input and checks if it is a palindrome\n",
    "(reads the same forwards and backwards)'''"
   ]
  },
  {
   "cell_type": "code",
   "execution_count": 18,
   "id": "5e481903-bd74-451d-9034-402fd6bf3d9c",
   "metadata": {},
   "outputs": [
    {
     "name": "stdin",
     "output_type": "stream",
     "text": [
      "string:  ollo\n"
     ]
    }
   ],
   "source": [
    "string = input(\"string: \")\n",
    "string = string.replace(\" \", \"\")"
   ]
  },
  {
   "cell_type": "code",
   "execution_count": 19,
   "id": "8bab8d46-26f2-4427-bc68-51c08ec49f27",
   "metadata": {},
   "outputs": [
    {
     "name": "stdout",
     "output_type": "stream",
     "text": [
      "Yes, it is a palindrome.\n"
     ]
    }
   ],
   "source": [
    "# Check if the string is equal to its reverse\n",
    "if string == string[::-1]:\n",
    "    print(\"Yes, it is a palindrome.\")\n",
    "else:\n",
    "    print(\"No, it is not a palindrome.\")\n"
   ]
  },
  {
   "cell_type": "code",
   "execution_count": null,
   "id": "77717b95-2433-4864-bf79-d3d836de8e57",
   "metadata": {},
   "outputs": [],
   "source": []
  },
  {
   "cell_type": "code",
   "execution_count": 20,
   "id": "47adbe4c-30bb-450e-83c4-cd2ca6b5536a",
   "metadata": {},
   "outputs": [
    {
     "data": {
      "text/plain": [
       "'Create a program that takes a string as input and removes all the spaces from\\nit. Print the modified string without spaces.'"
      ]
     },
     "execution_count": 20,
     "metadata": {},
     "output_type": "execute_result"
    }
   ],
   "source": [
    "'''Create a program that takes a string as input and removes all the spaces from\n",
    "it. Print the modified string without spaces.'''"
   ]
  },
  {
   "cell_type": "code",
   "execution_count": 28,
   "id": "6c3a220d-b744-449d-a7e2-711b2b66349d",
   "metadata": {},
   "outputs": [
    {
     "name": "stdin",
     "output_type": "stream",
     "text": [
      " how are you\n"
     ]
    }
   ],
   "source": [
    "p = str(input())"
   ]
  },
  {
   "cell_type": "code",
   "execution_count": 29,
   "id": "cc5bfe25-cff3-429c-a5a2-f9f224e0905a",
   "metadata": {},
   "outputs": [],
   "source": [
    "p = p.replace(\" \",\"\")"
   ]
  },
  {
   "cell_type": "code",
   "execution_count": 30,
   "id": "2b48447e-768c-4c38-92ae-0cdb2baae3f0",
   "metadata": {},
   "outputs": [
    {
     "name": "stdout",
     "output_type": "stream",
     "text": [
      "howareyou\n"
     ]
    }
   ],
   "source": [
    "print(p)"
   ]
  },
  {
   "cell_type": "code",
   "execution_count": null,
   "id": "fb68bd10-ed1d-47b6-b92b-c322f64c73dd",
   "metadata": {},
   "outputs": [],
   "source": []
  }
 ],
 "metadata": {
  "kernelspec": {
   "display_name": "Python 3 (ipykernel)",
   "language": "python",
   "name": "python3"
  },
  "language_info": {
   "codemirror_mode": {
    "name": "ipython",
    "version": 3
   },
   "file_extension": ".py",
   "mimetype": "text/x-python",
   "name": "python",
   "nbconvert_exporter": "python",
   "pygments_lexer": "ipython3",
   "version": "3.10.8"
  }
 },
 "nbformat": 4,
 "nbformat_minor": 5
}
